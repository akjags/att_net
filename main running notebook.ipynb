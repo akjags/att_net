{
 "cells": [
  {
   "cell_type": "code",
   "execution_count": null,
   "metadata": {
    "collapsed": true
   },
   "outputs": [],
   "source": [
    "from run_att_net import *"
   ]
  },
  {
   "cell_type": "code",
   "execution_count": null,
   "metadata": {
    "scrolled": true
   },
   "outputs": [
    {
     "name": "stderr",
     "output_type": "stream",
     "text": [
      "/share/software/user/open/py-pytorch/1.0.0_py27/lib/python2.7/site-packages/torchvision/transforms/transforms.py:188: UserWarning: The use of the transforms.Scale transform is deprecated, please use transforms.Resize instead.\n",
      "  \"please use transforms.Resize instead.\")\n",
      "/share/software/user/open/py-pytorch/1.0.0_py27/lib/python2.7/site-packages/torch/nn/modules/upsampling.py:129: UserWarning: nn.Upsample is deprecated. Use nn.functional.interpolate instead.\n",
      "  warnings.warn(\"nn.{} is deprecated. Use nn.functional.interpolate instead.\".format(self.name))\n"
     ]
    },
    {
     "name": "stdout",
     "output_type": "stream",
     "text": [
      "---Epoch 0, Step 0: Train Loss = 0.429932892323; Test Loss = 46150168.0 ---\n",
      "---Epoch 0, Step 100: Train Loss = 396.838287354; Test Loss = 1572161.75 ---\n",
      "---Epoch 0, Step 200: Train Loss = 1720.24621582; Test Loss = 1778.84667969 ---\n",
      "---Epoch 0, Step 300: Train Loss = 238.521820068; Test Loss = 218.163925171 ---\n",
      "---Epoch 0, Step 400: Train Loss = 205.351303101; Test Loss = 125.263633728 ---\n",
      "---Epoch 0, Step 500: Train Loss = 389.781433105; Test Loss = 493.566589355 ---\n",
      "---Epoch 0, Step 600: Train Loss = 546.362365723; Test Loss = 426.684387207 ---\n",
      "---Epoch 0, Step 700: Train Loss = 181.684829712; Test Loss = 163.139419556 ---\n",
      "Failure!!! Skipping to next epoch.\n",
      "---Epoch 1, Step 0: Train Loss = 142.499465942; Test Loss = 132.975646973 ---\n",
      "---Epoch 1, Step 100: Train Loss = 72.0020675659; Test Loss = 109.453536987 ---\n",
      "---Epoch 1, Step 200: Train Loss = 59.918964386; Test Loss = 75.1992797852 ---\n",
      "Failure!!! Skipping to next epoch.\n",
      "---Epoch 2, Step 0: Train Loss = 46.394744873; Test Loss = 70.534538269 ---\n",
      "Failure!!! Skipping to next epoch.\n",
      "---Epoch 3, Step 0: Train Loss = 198.840484619; Test Loss = 245.458496094 ---\n",
      "---Epoch 3, Step 100: Train Loss = 75.7754974365; Test Loss = 116.531814575 ---\n",
      "Failure!!! Skipping to next epoch.\n",
      "---Epoch 4, Step 0: Train Loss = 130.598266602; Test Loss = 113.324295044 ---\n",
      "---Epoch 4, Step 100: Train Loss = 53.7583465576; Test Loss = 76.0161056519 ---\n",
      "Failure!!! Skipping to next epoch.\n",
      "---Epoch 5, Step 0: Train Loss = 30.5695915222; Test Loss = 74.9856338501 ---\n",
      "---Epoch 5, Step 100: Train Loss = 51.1643600464; Test Loss = 55.1563873291 ---\n",
      "---Epoch 5, Step 200: Train Loss = 21.5420513153; Test Loss = 35.2878227234 ---\n",
      "---Epoch 5, Step 300: Train Loss = 12.9062862396; Test Loss = 20.6094779968 ---\n",
      "---Epoch 5, Step 400: Train Loss = 9.57168388367; Test Loss = 12.5921201706 ---\n",
      "---Epoch 5, Step 500: Train Loss = 7.96278429031; Test Loss = 9.01915073395 ---\n",
      "---Epoch 5, Step 600: Train Loss = 3.35828709602; Test Loss = 6.8933429718 ---\n",
      "---Epoch 5, Step 700: Train Loss = 5.15794324875; Test Loss = 5.19109916687 ---\n",
      "---Epoch 5, Step 800: Train Loss = 3.50187349319; Test Loss = 4.11619853973 ---\n",
      "Failure!!! Skipping to next epoch.\n",
      "---Epoch 6, Step 0: Train Loss = 2.5320110321; Test Loss = 3.2601981163 ---\n",
      "---Epoch 6, Step 100: Train Loss = 1.09025239944; Test Loss = 1.47841882706 ---\n",
      "---Epoch 6, Step 200: Train Loss = 0.766130924225; Test Loss = 0.632388174534 ---\n",
      "---Epoch 6, Step 300: Train Loss = 0.675071418285; Test Loss = 0.403079301119 ---\n",
      "---Epoch 6, Step 400: Train Loss = 0.397526353598; Test Loss = 0.345814526081 ---\n",
      "---Epoch 6, Step 500: Train Loss = 0.331261903048; Test Loss = 0.316238075495 ---\n",
      "Failure!!! Skipping to next epoch.\n",
      "---Epoch 7, Step 0: Train Loss = 0.296016514301; Test Loss = 0.305117368698 ---\n",
      "---Epoch 7, Step 100: Train Loss = 0.342496186495; Test Loss = 0.288573086262 ---\n",
      "---Epoch 7, Step 200: Train Loss = 0.260645210743; Test Loss = 0.27541077137 ---\n",
      "---Epoch 7, Step 300: Train Loss = 0.278678715229; Test Loss = 0.262959986925 ---\n",
      "Failure!!! Skipping to next epoch.\n",
      "---Epoch 8, Step 0: Train Loss = 0.247099593282; Test Loss = 0.256347537041 ---\n",
      "---Epoch 8, Step 100: Train Loss = 0.223025783896; Test Loss = 0.247878730297 ---\n",
      "Failure!!! Skipping to next epoch.\n",
      "---Epoch 9, Step 0: Train Loss = 0.249334290624; Test Loss = 0.244781285524 ---\n",
      "---Epoch 9, Step 100: Train Loss = 0.234341830015; Test Loss = 0.236485630274 ---\n",
      "---Epoch 9, Step 200: Train Loss = 0.216068089008; Test Loss = 0.230669856071 ---\n",
      "---Epoch 9, Step 300: Train Loss = 0.215079918504; Test Loss = 0.225582063198 ---\n",
      "---Epoch 9, Step 400: Train Loss = 0.206795036793; Test Loss = 0.220891207457 ---\n",
      "Failure!!! Skipping to next epoch.\n",
      "---Epoch 10, Step 0: Train Loss = 0.226199060678; Test Loss = 0.218157351017 ---\n",
      "Failure!!! Skipping to next epoch.\n",
      "---Epoch 11, Step 0: Train Loss = 0.203274980187; Test Loss = 0.216660991311 ---\n",
      "---Epoch 11, Step 100: Train Loss = 0.209543377161; Test Loss = 0.212691769004 ---\n",
      "---Epoch 11, Step 200: Train Loss = 0.202880740166; Test Loss = 0.208495482802 ---\n",
      "Failure!!! Skipping to next epoch.\n",
      "---Epoch 12, Step 0: Train Loss = 0.206846535206; Test Loss = 0.208252385259 ---\n",
      "---Epoch 12, Step 100: Train Loss = 0.201323598623; Test Loss = 0.204083696008 ---\n",
      "---Epoch 12, Step 200: Train Loss = 0.200984477997; Test Loss = 0.200953409076 ---\n",
      "---Epoch 12, Step 300: Train Loss = 0.197534769773; Test Loss = 0.198833137751 ---\n",
      "Failure!!! Skipping to next epoch.\n",
      "---Epoch 13, Step 0: Train Loss = 0.196546062827; Test Loss = 0.197835698724 ---\n",
      "---Epoch 13, Step 100: Train Loss = 0.192364439368; Test Loss = 0.196060612798 ---\n",
      "---Epoch 13, Step 200: Train Loss = 0.194114223123; Test Loss = 0.195242881775 ---\n",
      "---Epoch 13, Step 300: Train Loss = 0.193526610732; Test Loss = 0.193319171667 ---\n"
     ]
    }
   ],
   "source": [
    "savedir = '/scratch/users/akshayj/log007'\n",
    "\n",
    "def get_test_data():\n",
    "    # Load the test data:\n",
    "    batch_size=100\n",
    "    stimdir = '/home/users/akshayj/att_net/imagenet_stimuli/'\n",
    "    test_dataset = ImageFolder(stimdir, loader=image_loader)\n",
    "    test_data_loader = torch.utils.data.DataLoader(test_dataset, batch_size=batch_size, shuffle=True)\n",
    "\n",
    "    for step,(x,y) in enumerate(test_data_loader):\n",
    "        x_test = Variable(torch.squeeze(x)).to(device)\n",
    "\n",
    "        # Turn Y vector into one-hot\n",
    "        b_y = torch.fmod(y,4).unsqueeze(1).to(device)\n",
    "        y_test = torch.FloatTensor(y.shape[0], 4).zero_().to(device)\n",
    "        y_test.scatter_(1, b_y, 1)\n",
    "\n",
    "        # Extract hidden unit initialization and turn into one-hot\n",
    "        hid = torch.div(y,4).unsqueeze(1).to(device);\n",
    "        query_test = torch.FloatTensor(hid.shape[0], 4).zero_().to(device)    \n",
    "        query_test.scatter_(1, hid, 1)\n",
    "        query_test = query_test.unsqueeze(0)\n",
    "        del hid\n",
    "        del b_y\n",
    "        break\n",
    "    return x_test,y_test,query_test\n",
    "\n",
    "x_test, y_test, query_test = get_test_data()\n",
    "torch.cuda.empty_cache()\n",
    "train_AttNet((x_test, y_test, query_test), savedir)"
   ]
  },
  {
   "cell_type": "code",
   "execution_count": null,
   "metadata": {
    "collapsed": true
   },
   "outputs": [],
   "source": []
  }
 ],
 "metadata": {
  "kernelspec": {
   "display_name": "Python 2",
   "language": "python",
   "name": "python2"
  },
  "language_info": {
   "codemirror_mode": {
    "name": "ipython",
    "version": 2
   },
   "file_extension": ".py",
   "mimetype": "text/x-python",
   "name": "python",
   "nbconvert_exporter": "python",
   "pygments_lexer": "ipython2",
   "version": "2.7.13"
  }
 },
 "nbformat": 4,
 "nbformat_minor": 2
}
