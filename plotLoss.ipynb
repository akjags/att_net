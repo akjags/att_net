{
 "cells": [
  {
   "cell_type": "code",
   "execution_count": null,
   "metadata": {
    "collapsed": true
   },
   "outputs": [],
   "source": [
    "from run_att_net import *"
   ]
  },
  {
   "cell_type": "code",
   "execution_count": 2,
   "metadata": {
    "collapsed": true
   },
   "outputs": [],
   "source": [
    "%matplotlib inline\n",
    "import matplotlib.pyplot as plt\n",
    "import numpy as np\n",
    "import os"
   ]
  },
  {
   "cell_type": "code",
   "execution_count": 14,
   "metadata": {},
   "outputs": [
    {
     "name": "stdout",
     "output_type": "stream",
     "text": [
      "['epoch', 'train_loss']\n"
     ]
    },
    {
     "data": {
      "text/plain": [
       "array([ 546.4281745 ,  552.62046814,  552.62046814,  552.62046814,\n",
       "        552.62046814,  552.62046814,  552.62046814,  552.62046814,\n",
       "        552.62046814,  552.62046814,  552.62046814,  552.62046814,\n",
       "        552.62046814,  552.62046814,  552.62046814,  552.62046814,\n",
       "        552.62046814,  552.62046814,  552.62046814,  552.62046814,\n",
       "        552.62046814,  552.62046814,  552.62046814,  552.62046814,\n",
       "        552.62046814,  552.62046814,  552.62046814,  552.62046814,\n",
       "        552.62046814,  552.62046814,  552.62046814,  552.62046814,\n",
       "        552.62046814,  552.62046814,  552.62046814,  552.62046814,\n",
       "        552.62046814,  552.62046814,  552.62046814,  552.62046814,\n",
       "        552.62046814,  552.62046814,  552.62046814,  552.62046814,\n",
       "        552.62046814,  552.62046814,  552.62046814,    0.        ,\n",
       "          0.        ,    0.        ])"
      ]
     },
     "execution_count": 14,
     "metadata": {},
     "output_type": "execute_result"
    }
   ],
   "source": [
    "savedir = '/scratch/users/akshayj/log001'\n",
    "files = os.listdir(savedir)\n",
    "\n",
    "a = np.load(savedir + '/' + files[-1]).item()\n",
    "print a.keys()\n",
    "a['train_loss']\n",
    "#for i in range(30):\n",
    "    "
   ]
  }
 ],
 "metadata": {
  "kernelspec": {
   "display_name": "Python 2",
   "language": "python",
   "name": "python2"
  },
  "language_info": {
   "codemirror_mode": {
    "name": "ipython",
    "version": 2
   },
   "file_extension": ".py",
   "mimetype": "text/x-python",
   "name": "python",
   "nbconvert_exporter": "python",
   "pygments_lexer": "ipython2",
   "version": "2.7.13"
  }
 },
 "nbformat": 4,
 "nbformat_minor": 2
}
